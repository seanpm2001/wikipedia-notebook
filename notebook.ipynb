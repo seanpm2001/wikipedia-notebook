{
  "nbformat": 4,
  "nbformat_minor": 0,
  "metadata": {
    "colab": {
      "name": "Wikipedia Scanner",
      "provenance": [],
      "collapsed_sections": [],
      "toc_visible": true,
      "authorship_tag": "ABX9TyMG06EfvWKqQKkpdDUJXS5p",
      "include_colab_link": true
    },
    "kernelspec": {
      "name": "python3",
      "display_name": "Python 3"
    }
  },
  "cells": [
    {
      "cell_type": "markdown",
      "metadata": {
        "id": "view-in-github",
        "colab_type": "text"
      },
      "source": [
        "<a href=\"https://colab.research.google.com/github/stanfordio/wikipedia-notebook/blob/main/notebook.ipynb\" target=\"_parent\"><img src=\"https://colab.research.google.com/assets/colab-badge.svg\" alt=\"Open In Colab\"/></a>"
      ]
    },
    {
      "cell_type": "markdown",
      "metadata": {
        "id": "14CDC2DXE9Jq"
      },
      "source": [
        "# Wikipedia Scanner\n",
        "\n",
        "Created for INTLPOL268D at Stanford University by Team Wikipedia.\n",
        "\n",
        "### License\n",
        "\n",
        "Copyright Stanford University and R. Miles McCain (2020).\n",
        "\n",
        "Licensed under the Apache License, Version 2.0 (the \"License\");\n",
        "you may not use this file except in compliance with the License.\n",
        "You may obtain a copy of the License at [http://www.apache.org/licenses/LICENSE-2.0](http://www.apache.org/licenses/LICENSE-2.0).\n",
        "\n",
        "Unless required by applicable law or agreed to in writing, software\n",
        "distributed under the License is distributed on an \"AS IS\" BASIS,\n",
        "WITHOUT WARRANTIES OR CONDITIONS OF ANY KIND, either express or implied.\n",
        "See the License for the specific language governing permissions and\n",
        "limitations under the License.\n",
        "\n",
        "### How to Use\n",
        "\n",
        "Enter your query in the search box to the right, and select the appropriate sort order. Selecting `incoming_links_asc` will yield less popular pages; it's worth experimenting with the options to find what works best for your investigation."
      ]
    },
    {
      "cell_type": "code",
      "metadata": {
        "id": "gNGHwqTXZIM1"
      },
      "source": [
        "#@title Search Parameters\n",
        "query = \"American \\\"chief of staff\\\" incategory:living_people\" #@param {type:\"string\"}\n",
        "sort_order = 'incoming_links_asc' #@param [\"create_timestamp_desc\", \"incoming_links_asc\", \"random\", \"none\", \"relevance\", \"last_edit_desc\"]"
      ],
      "execution_count": null,
      "outputs": []
    },
    {
      "cell_type": "markdown",
      "metadata": {
        "id": "oPs57ruNHiYk"
      },
      "source": [
        "## Setup"
      ]
    },
    {
      "cell_type": "code",
      "metadata": {
        "id": "wzrNGHjyZeFV"
      },
      "source": [
        "%pip install pandas numpy requests seaborn matplotlib tqdm\n",
        "import requests\n",
        "import functools\n",
        "import pandas as pd\n",
        "import numpy as np\n",
        "import seaborn as sns\n",
        "import matplotlib.pyplot as plt\n",
        "import statistics\n",
        "from datetime import datetime, timedelta\n",
        "from dateutil.parser import parse as dateparse\n",
        "from tqdm.gui import tqdm"
      ],
      "execution_count": null,
      "outputs": []
    },
    {
      "cell_type": "code",
      "metadata": {
        "id": "LWazMEUCZnGL"
      },
      "source": [
        "@functools.lru_cache()\n",
        "def __search_wikipedia(query):\n",
        "  \"\"\"Internal function for searching Wikipedia and getting the raw results\"\"\"\n",
        "\n",
        "  # Any way to get recent number of edits?\n",
        "  PARAMS = {\n",
        "    \"action\": \"query\",\n",
        "    \"format\": \"json\",\n",
        "    \"prop\": \"flagged|info|pageprops|description\",\n",
        "    \"generator\": \"search\",\n",
        "    \"redirects\": 1,\n",
        "    \"converttitles\": 1,\n",
        "    \"pvipmetric\": \"pageviews\",\n",
        "    \"gsrsearch\": query,\n",
        "    \"gsrsort\": sort_order,\n",
        "    \"gsrlimit\": 100,\n",
        "  }\n",
        "\n",
        "  return requests.get(\"https://en.wikipedia.org/w/api.php\", params=PARAMS).json()\n",
        "\n",
        "@functools.lru_cache()\n",
        "def __page_metadata(page_name):\n",
        "  \"\"\"Internal function for getting the revision history of an individual page.\"\"\"\n",
        "\n",
        "  PARAMS = {\n",
        "    \"action\": \"query\",\n",
        "    \"format\": \"json\",\n",
        "    \"prop\": \"flagged|info|pageassessments|pageprops|revisions|pageviews\",\n",
        "    \"titles\": page_name,\n",
        "    \"redirects\": 1,\n",
        "    \"rvlimit\": \"max\",\n",
        "    \"converttitles\": 1,\n",
        "  }\n",
        "\n",
        "  resp = requests.get(\"https://en.wikipedia.org/w/api.php\", params=PARAMS).json()[\"query\"][\"pages\"].values()\n",
        "  page_data = list(resp)[0]\n",
        "  return {\n",
        "      \"revisions\": page_data[\"revisions\"],\n",
        "      \"pageviews\": page_data[\"pageviews\"]\n",
        "  }"
      ],
      "execution_count": null,
      "outputs": []
    },
    {
      "cell_type": "code",
      "metadata": {
        "id": "FNtkbAH5nwLD"
      },
      "source": [
        "def search(query):\n",
        "  print(\"Searching for pages...\")\n",
        "  results = __search_wikipedia(query)\n",
        "  pages = results[\"query\"][\"pages\"].values()\n",
        "\n",
        "  print(\"Loading revision histories...\")\n",
        "  for page in tqdm(pages):      \n",
        "    # Get number of recent edits, pageviews\n",
        "    page_metadata = __page_metadata(page[\"title\"])\n",
        "    page[\"revisions\"] = page_metadata[\"revisions\"]\n",
        "    page[\"recent_revisions\"] = 0\n",
        "    for revision in page[\"revisions\"]:\n",
        "      if dateparse(revision[\"timestamp\"]).replace(tzinfo=None) > datetime.utcnow() - timedelta(days=30):\n",
        "        page[\"recent_revisions\"] += 1\n",
        "\n",
        "    if \"pageviews\" in page_metadata:\n",
        "      page[\"pageview_avg\"] = statistics.mean([value if value is not None else 0 for value in page_metadata[\"pageviews\"].values()])\n",
        "\n",
        "    page[\"link\"] = f\"https://en.wikipedia.org/?curid={page['pageid']}\"\n",
        "\n",
        "  return pd.DataFrame(data=pages)"
      ],
      "execution_count": null,
      "outputs": []
    },
    {
      "cell_type": "markdown",
      "metadata": {
        "id": "ohJpvPiKHnep"
      },
      "source": [
        "## Querying, Loading, and Processing Data"
      ]
    },
    {
      "cell_type": "code",
      "metadata": {
        "id": "Ct66aSpSiZCh"
      },
      "source": [
        "results = search(query)\n",
        "results"
      ],
      "execution_count": null,
      "outputs": []
    },
    {
      "cell_type": "code",
      "metadata": {
        "id": "ZvK9h1yViasG"
      },
      "source": [
        "results[\"revisions_per_pageview\"] = results.apply(lambda k: k[\"recent_revisions\"] / max(1, k[\"pageview_avg\"]), axis=1)"
      ],
      "execution_count": null,
      "outputs": []
    },
    {
      "cell_type": "code",
      "metadata": {
        "id": "feBowbhSGbmB"
      },
      "source": [
        "results[\"length_per_pageview\"] = results.apply(lambda k: k[\"length\"] / max(1, k[\"pageview_avg\"]), axis=1)"
      ],
      "execution_count": null,
      "outputs": []
    },
    {
      "cell_type": "code",
      "metadata": {
        "id": "lIdgE5mCFqNt"
      },
      "source": [
        "results[\"editors_per_revision\"] = results.apply(lambda k: len(set([l.get(\"user\") for l in k[\"revisions\"]])) / max(1, k[\"recent_revisions\"]), axis=1)"
      ],
      "execution_count": null,
      "outputs": []
    },
    {
      "cell_type": "markdown",
      "metadata": {
        "id": "VU_WUhjFHtdi"
      },
      "source": [
        "## Analysis"
      ]
    },
    {
      "cell_type": "markdown",
      "metadata": {
        "id": "HhpFgrU7Hy1l"
      },
      "source": [
        "#### General distributions\n",
        "\n",
        "This table provides a general overview of the data pulled from Wikipedia. Remember that the pages found are _not_ representative of the search query; they are influenced by the chosen `sort_order`!"
      ]
    },
    {
      "cell_type": "code",
      "metadata": {
        "id": "8QYU2aMMIFaz"
      },
      "source": [
        "results.describe()"
      ],
      "execution_count": null,
      "outputs": []
    },
    {
      "cell_type": "markdown",
      "metadata": {
        "id": "zaLArlkNhsK-"
      },
      "source": [
        "### Length Distribution\n",
        "\n",
        "This chart shows the general distribution of the pages' length (in characters)."
      ]
    },
    {
      "cell_type": "code",
      "metadata": {
        "id": "86IuVxMVHxNl"
      },
      "source": [
        "sns.displot(results[\"length\"])"
      ],
      "execution_count": null,
      "outputs": []
    },
    {
      "cell_type": "markdown",
      "metadata": {
        "id": "AdwTr06niSE5"
      },
      "source": [
        "### Revision Distribution\n",
        "\n",
        "This chart shows the general distribution of the number of recent revisions (past 30 days)."
      ]
    },
    {
      "cell_type": "code",
      "metadata": {
        "id": "oj04TZX4H8Ku"
      },
      "source": [
        "sns.displot(results[\"recent_revisions\"])"
      ],
      "execution_count": null,
      "outputs": []
    },
    {
      "cell_type": "markdown",
      "metadata": {
        "id": "9UvPWOf2iaOV"
      },
      "source": [
        "### Pageview Distribution\n",
        "\n",
        "This chart shows the general distribution of the number of pageviews the pages received (the exact number of days is determined by Wikipedia, but it is guaranteed to be internally consistent)."
      ]
    },
    {
      "cell_type": "code",
      "metadata": {
        "id": "cUxGMo0hICsE"
      },
      "source": [
        "sns.distplot(results[\"pageview_avg\"])"
      ],
      "execution_count": null,
      "outputs": []
    },
    {
      "cell_type": "markdown",
      "metadata": {
        "id": "y3KQWU0iiqWk"
      },
      "source": [
        "### Relationship between pageviews and revisions\n",
        "\n",
        "This chart shows the general relationship between pageviews and number of recent revisions. It can help reveal outliers (pages with significantly higher ratios of revisions to pageviews are notable)."
      ]
    },
    {
      "cell_type": "code",
      "metadata": {
        "id": "V4x5-xnLIKYp"
      },
      "source": [
        "sns.scatterplot(results[\"pageview_avg\"], results[\"recent_revisions\"])"
      ],
      "execution_count": null,
      "outputs": []
    },
    {
      "cell_type": "markdown",
      "metadata": {
        "id": "0D6pPq65jDrE"
      },
      "source": [
        "### Relationship between pageviews and length\n",
        "\n",
        "This chart shows the general relationship between pageviews and page length. It can help reveal outliers (pages with significantly higher ratios of length to pageviews are notable)."
      ]
    },
    {
      "cell_type": "code",
      "metadata": {
        "id": "Ld6jJxvqIaMY"
      },
      "source": [
        "sns.scatterplot(results[\"pageview_avg\"], results[\"length\"])"
      ],
      "execution_count": null,
      "outputs": []
    },
    {
      "cell_type": "markdown",
      "metadata": {
        "id": "B2DV1goEIjsM"
      },
      "source": [
        "### Worth Checking Manually"
      ]
    },
    {
      "cell_type": "markdown",
      "metadata": {
        "id": "2MR9lTr1InUR"
      },
      "source": [
        "#### Highest edits-to-pageview ratio"
      ]
    },
    {
      "cell_type": "code",
      "metadata": {
        "id": "jwCgo-muIl6_"
      },
      "source": [
        "results.sort_values(\"revisions_per_pageview\", ascending=False).head()"
      ],
      "execution_count": null,
      "outputs": []
    },
    {
      "cell_type": "markdown",
      "metadata": {
        "id": "ZLQyaUExI-L6"
      },
      "source": [
        "#### Highest length-per-pageview ratio"
      ]
    },
    {
      "cell_type": "code",
      "metadata": {
        "id": "rGLa0VtXI4yB"
      },
      "source": [
        "results.sort_values(\"length_per_pageview\", ascending=False).head()"
      ],
      "execution_count": null,
      "outputs": []
    },
    {
      "cell_type": "markdown",
      "metadata": {
        "id": "HAm63GWCKcN9"
      },
      "source": [
        "#### Lowest editors per revision"
      ]
    },
    {
      "cell_type": "code",
      "metadata": {
        "id": "dwWwGhcfKnRa"
      },
      "source": [
        "results.sort_values(\"editors_per_revision\", ascending=True).head()"
      ],
      "execution_count": null,
      "outputs": []
    },
    {
      "cell_type": "markdown",
      "metadata": {
        "id": "wZXyqLzFJEZn"
      },
      "source": [
        "#### Shortest length"
      ]
    },
    {
      "cell_type": "code",
      "metadata": {
        "id": "zvl4cMUnJAMX"
      },
      "source": [
        "results.sort_values(\"length\", ascending=True).head()"
      ],
      "execution_count": null,
      "outputs": []
    },
    {
      "cell_type": "markdown",
      "metadata": {
        "id": "Ih0ker1VJIPm"
      },
      "source": [
        "#### Fewest pageviews"
      ]
    },
    {
      "cell_type": "code",
      "metadata": {
        "id": "uYWwA_QEJGBY"
      },
      "source": [
        "results.sort_values(\"pageview_avg\", ascending=True).head()"
      ],
      "execution_count": null,
      "outputs": []
    }
  ]
}